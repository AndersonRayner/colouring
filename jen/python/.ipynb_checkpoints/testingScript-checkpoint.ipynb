{
 "cells": [
  {
   "cell_type": "code",
   "execution_count": 64,
   "metadata": {},
   "outputs": [],
   "source": [
    "#Import packages\n",
    "import matplotlib.pyplot as plt\n",
    "import matplotlib.image as mpimg\n",
    "import numpy as np"
   ]
  },
  {
   "cell_type": "code",
   "execution_count": 73,
   "metadata": {},
   "outputs": [],
   "source": [
    "#Define functions\n",
    "\n",
    "# Binarize image based on r-channel\n",
    "def rgba2bw(im):\n",
    "    vals = im[:,:,1]/1\n",
    "    vals[vals > 128] = 255\n",
    "    return vals\n",
    "\n",
    "# Fill each white region with random value [0:255] \n",
    "def findRegions(im):\n",
    "    #initialize new image to fill in\n",
    "    newIm = im\n",
    "\n",
    "    #Loop through each pixel\n",
    "    for ii in range(0, im.shape[0]):\n",
    "        for jj in range(0, im.shape[1]):\n",
    "            if (newIm[ii, jj] == 255):\n",
    "                \n",
    "                #Get 3x3 array of pixels with current pixel at center\n",
    "                subNewIm = newIm[ii-1:ii+1, jj-1:jj+1];\n",
    "                \n",
    "                #If any pixel in the 3x3 array are already colored, use that\n",
    "                #color. Otherwise, asign a new random value\n",
    "                r_vals = subNewIm[subNewIm != 0]\n",
    "                r_vals = r_vals[r_vals != 255]\n",
    "                if r_vals.size > 0:\n",
    "                    color = r_vals[0];\n",
    "                else:\n",
    "                    color = 255*np.random.rand(1)[0];\n",
    "                    \n",
    "                #Handle the case where there was more than one color found in\n",
    "                #the 3x3 window. In that case, fill all of the extra colors\n",
    "                #with the chosen value so that the region is all the same color\n",
    "                r_vals = np.unique(r_vals);\n",
    "                r_vals = r_vals[r_vals != color]\n",
    "                if r_vals.size > 0:\n",
    "                    for cc in range(0, r_vals.size):\n",
    "                        newIm[newIm == r_vals[cc]] = color;\n",
    "                        \n",
    "                #Color the appropriate pixels with the new value\n",
    "                subNewIm[subNewIm != 0] = color;\n",
    "                newIm[ii-1:ii+1, jj-1:jj+1] = subNewIm;\n",
    "    \n",
    "    return newIm\n"
   ]
  },
  {
   "cell_type": "code",
   "execution_count": 74,
   "metadata": {},
   "outputs": [
    {
     "data": {
      "image/png": "[encoded data removed]",
      "text/plain": [
       "<Figure size 432x288 with 1 Axes>"
      ]
     },
     "metadata": {
      "needs_background": "light"
     },
     "output_type": "display_data"
    }
   ],
   "source": [
    "# Load and display original image\n",
    "filename = './../../images/mono_simple.bmp';\n",
    "im = mpimg.imread(filename, 'bmp')\n",
    "imgplot = plt.imshow(im)\n",
    "plt.show()"
   ]
  },
  {
   "cell_type": "code",
   "execution_count": 75,
   "metadata": {},
   "outputs": [
    {
     "data": {
      "image/png": "[encoded data removed]",
      "text/plain": [
       "<Figure size 432x288 with 1 Axes>"
      ]
     },
     "metadata": {
      "needs_background": "light"
     },
     "output_type": "display_data"
    }
   ],
   "source": [
    "#Get single channel to rep BW image\n",
    "im = rgba2bw(im)\n",
    "imgplot = plt.imshow(im)\n",
    "plt.show()"
   ]
  },
  {
   "cell_type": "code",
   "execution_count": 76,
   "metadata": {},
   "outputs": [
    {
     "data": {
      "image/png": "[encoded data removed]",
      "text/plain": [
       "<Figure size 432x288 with 1 Axes>"
      ]
     },
     "metadata": {
      "needs_background": "light"
     },
     "output_type": "display_data"
    }
   ],
   "source": [
    "#Find regions and mark with random colors\n",
    "newIm = findRegions(im)\n",
    "imgplot = plt.imshow(newIm)\n",
    "plt.show()"
   ]
  }
 ],
 "metadata": {
  "kernelspec": {
   "display_name": "Python 3",
   "language": "python",
   "name": "python3"
  },
  "language_info": {
   "codemirror_mode": {
    "name": "ipython",
    "version": 3
   },
   "file_extension": ".py",
   "mimetype": "text/x-python",
   "name": "python",
   "nbconvert_exporter": "python",
   "pygments_lexer": "ipython3",
   "version": "3.7.4"
  }
 },
 "nbformat": 4,
 "nbformat_minor": 2
}
